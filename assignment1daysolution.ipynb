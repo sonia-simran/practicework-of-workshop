{
 "cells": [
  {
   "cell_type": "markdown",
   "metadata": {},
   "source": [
    "## session exercise 1"
   ]
  },
  {
   "cell_type": "code",
   "execution_count": 23,
   "metadata": {},
   "outputs": [],
   "source": [
    "district = \"gwalior\"\n",
    "infected_till_date = 1234\n",
    "infected_on_10_06_2020 = 12\n",
    "infected_on_11_06_2020 = 2\n",
    "infected_on_12_06_2020 = 13\n",
    "\n"
   ]
  },
  {
   "cell_type": "code",
   "execution_count": 33,
   "metadata": {},
   "outputs": [],
   "source": [
    "percentage_change = ((infected_on_12_06_2020- infected_on_10_06_2020)/infected_on_12_06_2020)*100"
   ]
  },
  {
   "cell_type": "code",
   "execution_count": 34,
   "metadata": {},
   "outputs": [
    {
     "name": "stdout",
     "output_type": "stream",
     "text": [
      "7.6923076923076925\n"
     ]
    }
   ],
   "source": [
    "print(percentage_change)"
   ]
  },
  {
   "cell_type": "code",
   "execution_count": 35,
   "metadata": {},
   "outputs": [],
   "source": [
    "percentage_change_3days = ((infected_on_10_06_2020+ infected_on_11_06_2020-infected_on_12_06_2020)/infected_on_12_06_2020)*100"
   ]
  },
  {
   "cell_type": "code",
   "execution_count": 36,
   "metadata": {},
   "outputs": [
    {
     "name": "stdout",
     "output_type": "stream",
     "text": [
      "7.6923076923076925\n"
     ]
    }
   ],
   "source": [
    "print(percentage_change_3days)"
   ]
  },
  {
   "cell_type": "code",
   "execution_count": 37,
   "metadata": {},
   "outputs": [
    {
     "name": "stdout",
     "output_type": "stream",
     "text": [
      "District =  gwalior\n",
      "Infected  till date =  1234\n",
      "Infected on 10th June 2020 =  12\n",
      "Infected on 11th June 2020 =  2\n",
      "Infected on 12th June 2020 =  13\n",
      "% change in the infected in days =  7.6923076923076925\n",
      "% change in the infected in given three days =  7.6923076923076925\n"
     ]
    }
   ],
   "source": [
    "print(\"District = \", district)\n",
    "print(\"Infected  till date = \", infected_till_date)\n",
    "\n",
    "print(\"Infected on 10th June 2020 = \", infected_on_10_06_2020)\n",
    "print(\"Infected on 11th June 2020 = \", infected_on_11_06_2020)\n",
    "print(\"Infected on 12th June 2020 = \", infected_on_12_06_2020)\n",
    "print(\"% change in the infected in days = \", percentage_change)\n",
    "print(\"% change in the infected in given three days = \", percentage_change_3days)\n"
   ]
  },
  {
   "cell_type": "code",
   "execution_count": null,
   "metadata": {},
   "outputs": [],
   "source": []
  },
  {
   "cell_type": "code",
   "execution_count": null,
   "metadata": {},
   "outputs": [],
   "source": []
  }
 ],
 "metadata": {
  "kernelspec": {
   "display_name": "Python 3",
   "language": "python",
   "name": "python3"
  },
  "language_info": {
   "codemirror_mode": {
    "name": "ipython",
    "version": 3
   },
   "file_extension": ".py",
   "mimetype": "text/x-python",
   "name": "python",
   "nbconvert_exporter": "python",
   "pygments_lexer": "ipython3",
   "version": "3.8.3"
  }
 },
 "nbformat": 4,
 "nbformat_minor": 4
}
