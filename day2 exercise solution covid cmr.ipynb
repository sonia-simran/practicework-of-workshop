{
 "cells": [
  {
   "cell_type": "markdown",
   "metadata": {},
   "source": [
    "## Corona Infected States and No of Cases  Represent in List, Set,Tuple"
   ]
  },
  {
   "cell_type": "code",
   "execution_count": 1,
   "metadata": {},
   "outputs": [],
   "source": [
    "list_states =[\"Bihar\",\"Assam\",\"Delhi\",\"Goa\",\"kerala\",\"sikim\",\"Ladakh\",\"Haryana\"]"
   ]
  },
  {
   "cell_type": "code",
   "execution_count": 2,
   "metadata": {},
   "outputs": [
    {
     "data": {
      "text/plain": [
       "['Bihar', 'Assam', 'Delhi', 'Goa', 'kerala', 'sikim', 'Ladakh', 'Haryana']"
      ]
     },
     "execution_count": 2,
     "metadata": {},
     "output_type": "execute_result"
    }
   ],
   "source": [
    "list_states"
   ]
  },
  {
   "cell_type": "code",
   "execution_count": 3,
   "metadata": {},
   "outputs": [
    {
     "data": {
      "text/plain": [
       "list"
      ]
     },
     "execution_count": 3,
     "metadata": {},
     "output_type": "execute_result"
    }
   ],
   "source": [
    "type(list_states)"
   ]
  },
  {
   "cell_type": "code",
   "execution_count": 4,
   "metadata": {},
   "outputs": [],
   "source": [
    "list_infected = [\"10249\",\"8542\",\"89802\",\"1387\",\"4593\",\"101\",\"990\",\"14941\"]"
   ]
  },
  {
   "cell_type": "code",
   "execution_count": 5,
   "metadata": {},
   "outputs": [
    {
     "name": "stdout",
     "output_type": "stream",
     "text": [
      "State wise Infected COVID19 cases\n",
      "Bihar: 10249\n",
      "Assam: 8542\n",
      "Delhi: 89802\n",
      "Goa: 1387\n",
      "kerala: 4593\n",
      "sikim: 101\n",
      "Ladakh: 990\n",
      "Haryana: 14941\n"
     ]
    }
   ],
   "source": [
    "\n",
    "print(\"State wise Infected COVID19 cases\")\n",
    "for i in range(len(list_states)):\n",
    " print(list_states[i]+\": \"+str(list_infected[i]))\n"
   ]
  },
  {
   "cell_type": "code",
   "execution_count": 6,
   "metadata": {},
   "outputs": [],
   "source": [
    "tp_recovered_case = (\"7946\",\"5851\",\"59992\",\"670\",\"10499\",\"2439\",\"53\",\"694\",\"240\")"
   ]
  },
  {
   "cell_type": "code",
   "execution_count": 7,
   "metadata": {},
   "outputs": [
    {
     "data": {
      "text/plain": [
       "tuple"
      ]
     },
     "execution_count": 7,
     "metadata": {},
     "output_type": "execute_result"
    }
   ],
   "source": [
    "type(tp_recovered_case)"
   ]
  },
  {
   "cell_type": "code",
   "execution_count": 8,
   "metadata": {},
   "outputs": [],
   "source": [
    "dict = {\"Bihar\":10249,\"Assam\":8542,\"Delhi\":89802,\"Goa\":1387,\"kerala\":4593,\"sikim\":101,\"Ladakh\":990,\"Haryana\":14941}"
   ]
  },
  {
   "cell_type": "code",
   "execution_count": 9,
   "metadata": {},
   "outputs": [
    {
     "data": {
      "text/plain": [
       "dict"
      ]
     },
     "execution_count": 9,
     "metadata": {},
     "output_type": "execute_result"
    }
   ],
   "source": [
    "type(dict)"
   ]
  },
  {
   "cell_type": "code",
   "execution_count": 10,
   "metadata": {},
   "outputs": [
    {
     "name": "stdout",
     "output_type": "stream",
     "text": [
      "{'Bihar': 10249, 'Assam': 8542, 'Delhi': 89802, 'Goa': 1387, 'kerala': 4593, 'sikim': 101, 'Ladakh': 990, 'Haryana': 14941}\n"
     ]
    }
   ],
   "source": [
    "print(dict)"
   ]
  },
  {
   "cell_type": "code",
   "execution_count": 11,
   "metadata": {},
   "outputs": [
    {
     "name": "stdout",
     "output_type": "stream",
     "text": [
      "Bihar\n",
      "Assam\n",
      "Delhi\n",
      "Goa\n",
      "kerala\n",
      "sikim\n",
      "Ladakh\n",
      "Haryana\n"
     ]
    }
   ],
   "source": [
    "for item in dict:\n",
    "    print(item)"
   ]
  },
  {
   "cell_type": "code",
   "execution_count": 12,
   "metadata": {},
   "outputs": [
    {
     "data": {
      "text/plain": [
       "['Assam', 'Bihar', 'Delhi', 'Goa', 'Haryana', 'Ladakh', 'kerala', 'sikim']"
      ]
     },
     "execution_count": 12,
     "metadata": {},
     "output_type": "execute_result"
    }
   ],
   "source": [
    "sorted(dict.keys())"
   ]
  },
  {
   "cell_type": "code",
   "execution_count": 13,
   "metadata": {},
   "outputs": [
    {
     "name": "stdout",
     "output_type": "stream",
     "text": [
      "Bihar 10249\n",
      "Assam 8542\n",
      "Delhi 89802\n",
      "Goa 1387\n",
      "kerala 4593\n",
      "sikim 101\n",
      "Ladakh 990\n",
      "Haryana 14941\n"
     ]
    }
   ],
   "source": [
    "# this for loop put the dict item in to k,v\n",
    "\n",
    "for k,v in dict.items():\n",
    "    print(k,v)\n",
    "    #print(v)"
   ]
  },
  {
   "cell_type": "code",
   "execution_count": 14,
   "metadata": {},
   "outputs": [
    {
     "data": {
      "text/plain": [
       "dict_items([('Bihar', 10249), ('Assam', 8542), ('Delhi', 89802), ('Goa', 1387), ('kerala', 4593), ('sikim', 101), ('Ladakh', 990), ('Haryana', 14941)])"
      ]
     },
     "execution_count": 14,
     "metadata": {},
     "output_type": "execute_result"
    }
   ],
   "source": [
    "dict.items()                 "
   ]
  },
  {
   "cell_type": "code",
   "execution_count": 15,
   "metadata": {},
   "outputs": [
    {
     "data": {
      "text/plain": [
       "set"
      ]
     },
     "execution_count": 15,
     "metadata": {},
     "output_type": "execute_result"
    }
   ],
   "source": [
    "set_deaths_case ={\"70\",12,2803,4,24,0,1,240}\n",
    "\n",
    "type(set_deaths_case)"
   ]
  },
  {
   "cell_type": "code",
   "execution_count": 16,
   "metadata": {},
   "outputs": [],
   "source": [
    "infected_total_till_date=136596\n",
    "recoverd_till_date=67890\n",
    "death_till_dates=5732\n",
    "population=500000"
   ]
  },
  {
   "cell_type": "markdown",
   "metadata": {},
   "source": [
    "## CALCULATE CMR, IFR"
   ]
  },
  {
   "cell_type": "code",
   "execution_count": 17,
   "metadata": {},
   "outputs": [
    {
     "name": "stdout",
     "output_type": "stream",
     "text": [
      "the IFR=4.196316143957364%\n",
      "the CMR=1.1464%\n"
     ]
    }
   ],
   "source": [
    "\n",
    "\n",
    "infected=136596\n",
    "recovered=67890\n",
    "deaths=5732\n",
    "population=500000\n",
    "\n",
    "def IFR(deaths,infected):\n",
    "    IFR=(deaths/infected)*100;\n",
    "    print(\"the IFR={}%\".format(IFR))\n",
    "def CMR(population,deaths):\n",
    "    CMR=(deaths/population)*100\n",
    "    print(\"the CMR={}%\".format(CMR))\n",
    "\n",
    "IFR(deaths,infected)\n",
    "CMR(population,deaths)\n"
   ]
  },
  {
   "cell_type": "code",
   "execution_count": 18,
   "metadata": {},
   "outputs": [
    {
     "name": "stdout",
     "output_type": "stream",
     "text": [
      "infected_total_till_date =136596\n",
      "recovered_cases till date=67890\n",
      "deaths cases till date =5732\n",
      "population=500000\n"
     ]
    }
   ],
   "source": [
    "print(\"infected_total_till_date ={}\".format(infected))\n",
    "\n",
    "print(\"recovered_cases till date={}\".format(recovered))\n",
    "print(\"deaths cases till date ={}\".format(deaths)) \n",
    "print(\"population={}\".format(population))"
   ]
  },
  {
   "cell_type": "markdown",
   "metadata": {},
   "source": []
  },
  {
   "cell_type": "code",
   "execution_count": null,
   "metadata": {},
   "outputs": [],
   "source": []
  },
  {
   "cell_type": "code",
   "execution_count": null,
   "metadata": {},
   "outputs": [],
   "source": []
  },
  {
   "cell_type": "code",
   "execution_count": null,
   "metadata": {},
   "outputs": [],
   "source": []
  },
  {
   "cell_type": "code",
   "execution_count": null,
   "metadata": {},
   "outputs": [],
   "source": []
  },
  {
   "cell_type": "code",
   "execution_count": null,
   "metadata": {},
   "outputs": [],
   "source": [
    "\n"
   ]
  },
  {
   "cell_type": "code",
   "execution_count": null,
   "metadata": {},
   "outputs": [],
   "source": []
  },
  {
   "cell_type": "code",
   "execution_count": null,
   "metadata": {},
   "outputs": [],
   "source": []
  },
  {
   "cell_type": "code",
   "execution_count": null,
   "metadata": {},
   "outputs": [],
   "source": []
  }
 ],
 "metadata": {
  "kernelspec": {
   "display_name": "Python 3",
   "language": "python",
   "name": "python3"
  },
  "language_info": {
   "codemirror_mode": {
    "name": "ipython",
    "version": 3
   },
   "file_extension": ".py",
   "mimetype": "text/x-python",
   "name": "python",
   "nbconvert_exporter": "python",
   "pygments_lexer": "ipython3",
   "version": "3.8.3"
  }
 },
 "nbformat": 4,
 "nbformat_minor": 4
}
